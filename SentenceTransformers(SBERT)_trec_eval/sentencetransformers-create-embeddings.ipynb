{
 "cells": [
  {
   "cell_type": "code",
   "execution_count": null,
   "metadata": {
    "_cell_guid": "b1076dfc-b9ad-4769-8c92-a6c4dae69d19",
    "_uuid": "8f2839f25d086af736a60e9eeb907d3b93b6e0e5",
    "execution": {
     "iopub.execute_input": "2024-12-25T20:23:02.673770Z",
     "iopub.status.busy": "2024-12-25T20:23:02.673567Z",
     "iopub.status.idle": "2024-12-25T20:23:07.652809Z",
     "shell.execute_reply": "2024-12-25T20:23:07.651812Z",
     "shell.execute_reply.started": "2024-12-25T20:23:02.673750Z"
    },
    "trusted": true
   },
   "outputs": [],
   "source": [
    "!pip install -U sentence-transformers"
   ]
  },
  {
   "cell_type": "code",
   "execution_count": null,
   "metadata": {},
   "outputs": [],
   "source": [
    "from sentence_transformers import SentenceTransformer\n",
    "import json\n",
    "import pandas as pd\n",
    "import json\n",
    "from tqdm import tqdm"
   ]
  },
  {
   "cell_type": "code",
   "execution_count": 2,
   "metadata": {
    "execution": {
     "iopub.execute_input": "2024-12-25T20:23:07.654603Z",
     "iopub.status.busy": "2024-12-25T20:23:07.654273Z",
     "iopub.status.idle": "2024-12-25T20:23:14.777512Z",
     "shell.execute_reply": "2024-12-25T20:23:14.776754Z",
     "shell.execute_reply.started": "2024-12-25T20:23:07.654572Z"
    },
    "trusted": true
   },
   "outputs": [],
   "source": [
    "\n",
    "# Load and prepare data\n",
    "path_to_json = '/kaggle/input/financial-times/merged_output.json'\n",
    "with open(path_to_json, 'r') as file:\n",
    "    data = json.load(file)\n",
    "\n",
    "# Extract DOCNO and TEXT\n",
    "extracted_data = [\n",
    "    {\"DOCNO\": entry[\"DOCNO\"], \"TEXT\": entry[\"TEXT\"]}\n",
    "    for entry in data\n",
    "]"
   ]
  },
  {
   "cell_type": "code",
   "execution_count": 7,
   "metadata": {
    "execution": {
     "iopub.execute_input": "2024-12-25T21:18:15.534213Z",
     "iopub.status.busy": "2024-12-25T21:18:15.533924Z",
     "iopub.status.idle": "2024-12-25T21:18:15.539324Z",
     "shell.execute_reply": "2024-12-25T21:18:15.538612Z",
     "shell.execute_reply.started": "2024-12-25T21:18:15.534191Z"
    },
    "trusted": true
   },
   "outputs": [],
   "source": [
    "\n",
    "\n",
    "# List of models to use\n",
    "models = [\n",
    "    'multi-qa-distilbert-dot-v1',\n",
    "    'multi-qa-MiniLM-L6-dot-v1',\n",
    "    'multi-qa-mpnet-base-cos-v1',\n",
    "    'all-mpnet-base-v2',\n",
    "    'all-distilroberta-v1',\n",
    "    'all-MiniLM-L12-v2',\n",
    "    'all-MiniLM-L6-v2',\n",
    "    'multi-qa-distilbert-cos-v1',\n",
    "    'multi-qa-MiniLM-L6-cos-v1',\n",
    "    'multi-qa-mpnet-base-dot-v1',\n",
    "    'distiluse-base-multilingual-cased-v1',\n",
    "    'distiluse-base-multilingual-cased-v2',\n",
    "]\n",
    "\n",
    "# Create embeddings for each model\n",
    "sentences = [entry[\"TEXT\"] for entry in extracted_data]\n",
    "doc_ids = [entry[\"DOCNO\"] for entry in extracted_data]\n",
    "\n",
    "for model_name in tqdm(models, desc=\"Processing models\"):\n",
    "    # Initialize model\n",
    "    model = SentenceTransformer(f'sentence-transformers/{model_name}')\n",
    "    \n",
    "    # Generate embeddings\n",
    "    embeddings = model.encode(sentences, show_progress_bar=True)\n",
    "    \n",
    "    # Create DataFrame with DOCNO as first column\n",
    "    embeddings_df = pd.DataFrame(embeddings)\n",
    "    embeddings_df.insert(0, 'DOCNO', doc_ids)\n",
    "    \n",
    "    # Save embeddings\n",
    "    output_file = f'{model_name}_FT_embeddings.csv'\n",
    "    embeddings_df.to_csv(output_file, index=False)\n",
    "    print(f\"Saved embeddings for {model_name}\")\n"
   ]
  }
 ],
 "metadata": {
  "kaggle": {
   "accelerator": "gpu",
   "dataSources": [
    {
     "datasetId": 6142619,
     "sourceId": 9982294,
     "sourceType": "datasetVersion"
    },
    {
     "datasetId": 6310116,
     "sourceId": 10209807,
     "sourceType": "datasetVersion"
    },
    {
     "datasetId": 6374102,
     "sourceId": 10298181,
     "sourceType": "datasetVersion"
    },
    {
     "datasetId": 6377327,
     "sourceId": 10302942,
     "sourceType": "datasetVersion"
    }
   ],
   "dockerImageVersionId": 30823,
   "isGpuEnabled": true,
   "isInternetEnabled": true,
   "language": "python",
   "sourceType": "notebook"
  },
  "kernelspec": {
   "display_name": "Python 3",
   "language": "python",
   "name": "python3"
  },
  "language_info": {
   "codemirror_mode": {
    "name": "ipython",
    "version": 3
   },
   "file_extension": ".py",
   "mimetype": "text/x-python",
   "name": "python",
   "nbconvert_exporter": "python",
   "pygments_lexer": "ipython3",
   "version": "3.10.12"
  }
 },
 "nbformat": 4,
 "nbformat_minor": 4
}
